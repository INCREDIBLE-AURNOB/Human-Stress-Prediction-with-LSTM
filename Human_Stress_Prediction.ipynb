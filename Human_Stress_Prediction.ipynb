{
  "nbformat": 4,
  "nbformat_minor": 0,
  "metadata": {
    "colab": {
      "provenance": [],
      "authorship_tag": "ABX9TyOznSCgT6FsoRUCw58LvxOu",
      "include_colab_link": true
    },
    "kernelspec": {
      "name": "python3",
      "display_name": "Python 3"
    },
    "language_info": {
      "name": "python"
    }
  },
  "cells": [
    {
      "cell_type": "markdown",
      "metadata": {
        "id": "view-in-github",
        "colab_type": "text"
      },
      "source": [
        "<a href=\"https://colab.research.google.com/github/INCREDIBLE-AURNOB/Human-Stress-Prediction-with-LSTM/blob/main/Human_Stress_Prediction.ipynb\" target=\"_parent\"><img src=\"https://colab.research.google.com/assets/colab-badge.svg\" alt=\"Open In Colab\"/></a>"
      ]
    },
    {
      "cell_type": "code",
      "execution_count": 35,
      "metadata": {
        "id": "O9cczhLjkrA7"
      },
      "outputs": [],
      "source": [
        "!pip3 install opendatasets --quiet\n",
        "!pip3 install efficientnet --quiet"
      ]
    },
    {
      "cell_type": "code",
      "source": [
        "import opendatasets as od\n",
        "dataset=od.download(\"https://www.kaggle.com/datasets/kreeshrajani/human-stress-prediction\")"
      ],
      "metadata": {
        "colab": {
          "base_uri": "https://localhost:8080/"
        },
        "id": "OPG9ZpVq1kKw",
        "outputId": "b7a75b77-7f42-43ab-c10f-dee07ba5654e"
      },
      "execution_count": 36,
      "outputs": [
        {
          "output_type": "stream",
          "name": "stdout",
          "text": [
            "Skipping, found downloaded files in \"./human-stress-prediction\" (use force=True to force download)\n"
          ]
        }
      ]
    },
    {
      "cell_type": "code",
      "source": [
        "import numpy as np\n",
        "import pandas as pd\n",
        "import seaborn as sns\n",
        "import matplotlib.pyplot as plt\n",
        "import nltk\n",
        "import spacy\n",
        "from sklearn.preprocessing import LabelBinarizer\n",
        "from nltk.corpus import stopwords\n",
        "from nltk.stem.porter import PorterStemmer\n",
        "from wordcloud import WordCloud,STOPWORDS\n",
        "from nltk.stem import WordNetLemmatizer\n",
        "from nltk.tokenize import word_tokenize,sent_tokenize\n",
        "from bs4 import BeautifulSoup\n",
        "import re,string,unicodedata\n",
        "from keras.preprocessing import text, sequence\n",
        "from sklearn.metrics import classification_report,confusion_matrix,accuracy_score\n",
        "from sklearn.model_selection import train_test_split\n",
        "from string import punctuation\n",
        "from nltk import pos_tag\n",
        "from nltk.corpus import wordnet\n",
        "import keras\n",
        "from keras.models import Sequential\n",
        "from keras.utils import pad_sequences\n",
        "from keras.layers import Dense,Embedding,LSTM,Dropout\n",
        "from keras.callbacks import ReduceLROnPlateau\n",
        "import tensorflow as tf"
      ],
      "metadata": {
        "id": "h5Vvgxlq32gC"
      },
      "execution_count": 37,
      "outputs": []
    },
    {
      "cell_type": "code",
      "source": [
        "raw_df=pd.read_csv('/content/human-stress-prediction/Stress.csv')\n"
      ],
      "metadata": {
        "id": "bv9yUUZa329u"
      },
      "execution_count": 38,
      "outputs": []
    },
    {
      "cell_type": "code",
      "source": [
        "raw_df.head()"
      ],
      "metadata": {
        "colab": {
          "base_uri": "https://localhost:8080/",
          "height": 337
        },
        "id": "d7E8y7L1j2ws",
        "outputId": "c8e124ed-c0c8-4f62-9f85-de7ceb17f5cf"
      },
      "execution_count": 39,
      "outputs": [
        {
          "output_type": "execute_result",
          "data": {
            "text/plain": [
              "          subreddit post_id sentence_range  \\\n",
              "0              ptsd  8601tu       (15, 20)   \n",
              "1        assistance  8lbrx9         (0, 5)   \n",
              "2              ptsd  9ch1zh       (15, 20)   \n",
              "3     relationships  7rorpp        [5, 10]   \n",
              "4  survivorsofabuse  9p2gbc         [0, 5]   \n",
              "\n",
              "                                                text  label  confidence  \\\n",
              "0  He said he had not felt that way before, sugge...      1         0.8   \n",
              "1  Hey there r/assistance, Not sure if this is th...      0         1.0   \n",
              "2  My mom then hit me with the newspaper and it s...      1         0.8   \n",
              "3  until i met my new boyfriend, he is amazing, h...      1         0.6   \n",
              "4  October is Domestic Violence Awareness Month a...      1         0.8   \n",
              "\n",
              "   social_timestamp  \n",
              "0        1521614353  \n",
              "1        1527009817  \n",
              "2        1535935605  \n",
              "3        1516429555  \n",
              "4        1539809005  "
            ],
            "text/html": [
              "\n",
              "  <div id=\"df-4befbad8-0567-47ce-9a47-3b6fa8bde7ce\">\n",
              "    <div class=\"colab-df-container\">\n",
              "      <div>\n",
              "<style scoped>\n",
              "    .dataframe tbody tr th:only-of-type {\n",
              "        vertical-align: middle;\n",
              "    }\n",
              "\n",
              "    .dataframe tbody tr th {\n",
              "        vertical-align: top;\n",
              "    }\n",
              "\n",
              "    .dataframe thead th {\n",
              "        text-align: right;\n",
              "    }\n",
              "</style>\n",
              "<table border=\"1\" class=\"dataframe\">\n",
              "  <thead>\n",
              "    <tr style=\"text-align: right;\">\n",
              "      <th></th>\n",
              "      <th>subreddit</th>\n",
              "      <th>post_id</th>\n",
              "      <th>sentence_range</th>\n",
              "      <th>text</th>\n",
              "      <th>label</th>\n",
              "      <th>confidence</th>\n",
              "      <th>social_timestamp</th>\n",
              "    </tr>\n",
              "  </thead>\n",
              "  <tbody>\n",
              "    <tr>\n",
              "      <th>0</th>\n",
              "      <td>ptsd</td>\n",
              "      <td>8601tu</td>\n",
              "      <td>(15, 20)</td>\n",
              "      <td>He said he had not felt that way before, sugge...</td>\n",
              "      <td>1</td>\n",
              "      <td>0.8</td>\n",
              "      <td>1521614353</td>\n",
              "    </tr>\n",
              "    <tr>\n",
              "      <th>1</th>\n",
              "      <td>assistance</td>\n",
              "      <td>8lbrx9</td>\n",
              "      <td>(0, 5)</td>\n",
              "      <td>Hey there r/assistance, Not sure if this is th...</td>\n",
              "      <td>0</td>\n",
              "      <td>1.0</td>\n",
              "      <td>1527009817</td>\n",
              "    </tr>\n",
              "    <tr>\n",
              "      <th>2</th>\n",
              "      <td>ptsd</td>\n",
              "      <td>9ch1zh</td>\n",
              "      <td>(15, 20)</td>\n",
              "      <td>My mom then hit me with the newspaper and it s...</td>\n",
              "      <td>1</td>\n",
              "      <td>0.8</td>\n",
              "      <td>1535935605</td>\n",
              "    </tr>\n",
              "    <tr>\n",
              "      <th>3</th>\n",
              "      <td>relationships</td>\n",
              "      <td>7rorpp</td>\n",
              "      <td>[5, 10]</td>\n",
              "      <td>until i met my new boyfriend, he is amazing, h...</td>\n",
              "      <td>1</td>\n",
              "      <td>0.6</td>\n",
              "      <td>1516429555</td>\n",
              "    </tr>\n",
              "    <tr>\n",
              "      <th>4</th>\n",
              "      <td>survivorsofabuse</td>\n",
              "      <td>9p2gbc</td>\n",
              "      <td>[0, 5]</td>\n",
              "      <td>October is Domestic Violence Awareness Month a...</td>\n",
              "      <td>1</td>\n",
              "      <td>0.8</td>\n",
              "      <td>1539809005</td>\n",
              "    </tr>\n",
              "  </tbody>\n",
              "</table>\n",
              "</div>\n",
              "      <button class=\"colab-df-convert\" onclick=\"convertToInteractive('df-4befbad8-0567-47ce-9a47-3b6fa8bde7ce')\"\n",
              "              title=\"Convert this dataframe to an interactive table.\"\n",
              "              style=\"display:none;\">\n",
              "        \n",
              "  <svg xmlns=\"http://www.w3.org/2000/svg\" height=\"24px\"viewBox=\"0 0 24 24\"\n",
              "       width=\"24px\">\n",
              "    <path d=\"M0 0h24v24H0V0z\" fill=\"none\"/>\n",
              "    <path d=\"M18.56 5.44l.94 2.06.94-2.06 2.06-.94-2.06-.94-.94-2.06-.94 2.06-2.06.94zm-11 1L8.5 8.5l.94-2.06 2.06-.94-2.06-.94L8.5 2.5l-.94 2.06-2.06.94zm10 10l.94 2.06.94-2.06 2.06-.94-2.06-.94-.94-2.06-.94 2.06-2.06.94z\"/><path d=\"M17.41 7.96l-1.37-1.37c-.4-.4-.92-.59-1.43-.59-.52 0-1.04.2-1.43.59L10.3 9.45l-7.72 7.72c-.78.78-.78 2.05 0 2.83L4 21.41c.39.39.9.59 1.41.59.51 0 1.02-.2 1.41-.59l7.78-7.78 2.81-2.81c.8-.78.8-2.07 0-2.86zM5.41 20L4 18.59l7.72-7.72 1.47 1.35L5.41 20z\"/>\n",
              "  </svg>\n",
              "      </button>\n",
              "      \n",
              "  <style>\n",
              "    .colab-df-container {\n",
              "      display:flex;\n",
              "      flex-wrap:wrap;\n",
              "      gap: 12px;\n",
              "    }\n",
              "\n",
              "    .colab-df-convert {\n",
              "      background-color: #E8F0FE;\n",
              "      border: none;\n",
              "      border-radius: 50%;\n",
              "      cursor: pointer;\n",
              "      display: none;\n",
              "      fill: #1967D2;\n",
              "      height: 32px;\n",
              "      padding: 0 0 0 0;\n",
              "      width: 32px;\n",
              "    }\n",
              "\n",
              "    .colab-df-convert:hover {\n",
              "      background-color: #E2EBFA;\n",
              "      box-shadow: 0px 1px 2px rgba(60, 64, 67, 0.3), 0px 1px 3px 1px rgba(60, 64, 67, 0.15);\n",
              "      fill: #174EA6;\n",
              "    }\n",
              "\n",
              "    [theme=dark] .colab-df-convert {\n",
              "      background-color: #3B4455;\n",
              "      fill: #D2E3FC;\n",
              "    }\n",
              "\n",
              "    [theme=dark] .colab-df-convert:hover {\n",
              "      background-color: #434B5C;\n",
              "      box-shadow: 0px 1px 3px 1px rgba(0, 0, 0, 0.15);\n",
              "      filter: drop-shadow(0px 1px 2px rgba(0, 0, 0, 0.3));\n",
              "      fill: #FFFFFF;\n",
              "    }\n",
              "  </style>\n",
              "\n",
              "      <script>\n",
              "        const buttonEl =\n",
              "          document.querySelector('#df-4befbad8-0567-47ce-9a47-3b6fa8bde7ce button.colab-df-convert');\n",
              "        buttonEl.style.display =\n",
              "          google.colab.kernel.accessAllowed ? 'block' : 'none';\n",
              "\n",
              "        async function convertToInteractive(key) {\n",
              "          const element = document.querySelector('#df-4befbad8-0567-47ce-9a47-3b6fa8bde7ce');\n",
              "          const dataTable =\n",
              "            await google.colab.kernel.invokeFunction('convertToInteractive',\n",
              "                                                     [key], {});\n",
              "          if (!dataTable) return;\n",
              "\n",
              "          const docLinkHtml = 'Like what you see? Visit the ' +\n",
              "            '<a target=\"_blank\" href=https://colab.research.google.com/notebooks/data_table.ipynb>data table notebook</a>'\n",
              "            + ' to learn more about interactive tables.';\n",
              "          element.innerHTML = '';\n",
              "          dataTable['output_type'] = 'display_data';\n",
              "          await google.colab.output.renderOutput(dataTable, element);\n",
              "          const docLink = document.createElement('div');\n",
              "          docLink.innerHTML = docLinkHtml;\n",
              "          element.appendChild(docLink);\n",
              "        }\n",
              "      </script>\n",
              "    </div>\n",
              "  </div>\n",
              "  "
            ]
          },
          "metadata": {},
          "execution_count": 39
        }
      ]
    },
    {
      "cell_type": "code",
      "source": [
        "sns.set_style(\"darkgrid\")\n",
        "sns.countplot(data=raw_df,x=raw_df.label)"
      ],
      "metadata": {
        "colab": {
          "base_uri": "https://localhost:8080/",
          "height": 480
        },
        "id": "aFkyoU9uc4Xi",
        "outputId": "cbb6e988-20be-4aff-c9d9-72884d5278ce"
      },
      "execution_count": 41,
      "outputs": [
        {
          "output_type": "execute_result",
          "data": {
            "text/plain": [
              "<Axes: xlabel='label', ylabel='count'>"
            ]
          },
          "metadata": {},
          "execution_count": 41
        },
        {
          "output_type": "display_data",
          "data": {
            "text/plain": [
              "<Figure size 640x480 with 1 Axes>"
            ],
            "image/png": "[encoded data removed]"
          },
          "metadata": {}
        }
      ]
    },
    {
      "cell_type": "code",
      "source": [
        "plt.figure(figsize=(20,5))\n",
        "plt.title(\"Subreddit wise stress count \")\n",
        "plt.xlabel(\"Subreddit\")\n",
        "sns.countplot(data=raw_df,x='subreddit',hue='label')\n",
        "plt.show()"
      ],
      "metadata": {
        "colab": {
          "base_uri": "https://localhost:8080/",
          "height": 289
        },
        "id": "AnmlDq66JXxA",
        "outputId": "cbc33ea8-61d3-4b5e-cef7-17f8a882e2f5"
      },
      "execution_count": 53,
      "outputs": [
        {
          "output_type": "display_data",
          "data": {
            "text/plain": [
              "<Figure size 2000x500 with 1 Axes>"
            ],
            "image/png": "[encoded data removed]"
          },
          "metadata": {}
        }
      ]
    },
    {
      "cell_type": "code",
      "source": [
        "raw_df.isna().sum()"
      ],
      "metadata": {
        "colab": {
          "base_uri": "https://localhost:8080/"
        },
        "id": "NQSNe3uX4lQS",
        "outputId": "e630545d-fc12-4838-b6b3-d3f7076e6894"
      },
      "execution_count": 6,
      "outputs": [
        {
          "output_type": "execute_result",
          "data": {
            "text/plain": [
              "subreddit           0\n",
              "post_id             0\n",
              "sentence_range      0\n",
              "text                0\n",
              "label               0\n",
              "confidence          0\n",
              "social_timestamp    0\n",
              "dtype: int64"
            ]
          },
          "metadata": {},
          "execution_count": 6
        }
      ]
    },
    {
      "cell_type": "code",
      "source": [
        "raw_df.subreddit.value_counts()"
      ],
      "metadata": {
        "colab": {
          "base_uri": "https://localhost:8080/"
        },
        "id": "LSokE8bs4t9f",
        "outputId": "c7074b10-1516-4f70-e181-113f6f2c1b00"
      },
      "execution_count": 7,
      "outputs": [
        {
          "output_type": "execute_result",
          "data": {
            "text/plain": [
              "ptsd                584\n",
              "relationships       552\n",
              "anxiety             503\n",
              "domesticviolence    316\n",
              "assistance          289\n",
              "survivorsofabuse    245\n",
              "homeless            168\n",
              "almosthomeless       80\n",
              "stress               64\n",
              "food_pantry          37\n",
              "Name: subreddit, dtype: int64"
            ]
          },
          "metadata": {},
          "execution_count": 7
        }
      ]
    },
    {
      "cell_type": "code",
      "source": [
        "del raw_df['post_id']\n",
        "del raw_df['sentence_range']"
      ],
      "metadata": {
        "id": "xlMdTPhckD8v"
      },
      "execution_count": 10,
      "outputs": []
    },
    {
      "cell_type": "code",
      "source": [
        "nltk.download('stopwords')\n",
        "nltk.download('wordnet')\n",
        "nltk.download('punkt')\n",
        "nltk.download('omw-1.4')\n",
        "stop=set(stopwords.words('english'))\n",
        "punctuation=list(string.punctuation)\n",
        "stop.update(punctuation)"
      ],
      "metadata": {
        "colab": {
          "base_uri": "https://localhost:8080/"
        },
        "id": "mFkfcxUQkUQc",
        "outputId": "ea8e582b-763a-42d6-b29b-e2fd95641b13"
      },
      "execution_count": 19,
      "outputs": [
        {
          "output_type": "stream",
          "name": "stderr",
          "text": [
            "[nltk_data] Downloading package stopwords to /root/nltk_data...\n",
            "[nltk_data]   Package stopwords is already up-to-date!\n",
            "[nltk_data] Downloading package wordnet to /root/nltk_data...\n",
            "[nltk_data] Downloading package punkt to /root/nltk_data...\n",
            "[nltk_data]   Unzipping tokenizers/punkt.zip.\n",
            "[nltk_data] Downloading package omw-1.4 to /root/nltk_data...\n"
          ]
        }
      ]
    },
    {
      "cell_type": "markdown",
      "source": [
        "## Cleaning data"
      ],
      "metadata": {
        "id": "JuiNYTShkgBC"
      }
    },
    {
      "cell_type": "code",
      "source": [
        "raw_df.head()"
      ],
      "metadata": {
        "colab": {
          "base_uri": "https://localhost:8080/",
          "height": 206
        },
        "id": "hBGg4snZkUTS",
        "outputId": "78b4658f-73c9-4748-fb51-3aba6ba6a53e"
      },
      "execution_count": 12,
      "outputs": [
        {
          "output_type": "execute_result",
          "data": {
            "text/plain": [
              "          subreddit                                               text  label  \\\n",
              "0              ptsd  He said he had not felt that way before, sugge...      1   \n",
              "1        assistance  Hey there r/assistance, Not sure if this is th...      0   \n",
              "2              ptsd  My mom then hit me with the newspaper and it s...      1   \n",
              "3     relationships  until i met my new boyfriend, he is amazing, h...      1   \n",
              "4  survivorsofabuse  October is Domestic Violence Awareness Month a...      1   \n",
              "\n",
              "   confidence  social_timestamp  \n",
              "0         0.8        1521614353  \n",
              "1         1.0        1527009817  \n",
              "2         0.8        1535935605  \n",
              "3         0.6        1516429555  \n",
              "4         0.8        1539809005  "
            ],
            "text/html": [
              "\n",
              "  <div id=\"df-c9ea5088-54d7-41ce-b0a1-567e575ae8f7\">\n",
              "    <div class=\"colab-df-container\">\n",
              "      <div>\n",
              "<style scoped>\n",
              "    .dataframe tbody tr th:only-of-type {\n",
              "        vertical-align: middle;\n",
              "    }\n",
              "\n",
              "    .dataframe tbody tr th {\n",
              "        vertical-align: top;\n",
              "    }\n",
              "\n",
              "    .dataframe thead th {\n",
              "        text-align: right;\n",
              "    }\n",
              "</style>\n",
              "<table border=\"1\" class=\"dataframe\">\n",
              "  <thead>\n",
              "    <tr style=\"text-align: right;\">\n",
              "      <th></th>\n",
              "      <th>subreddit</th>\n",
              "      <th>text</th>\n",
              "      <th>label</th>\n",
              "      <th>confidence</th>\n",
              "      <th>social_timestamp</th>\n",
              "    </tr>\n",
              "  </thead>\n",
              "  <tbody>\n",
              "    <tr>\n",
              "      <th>0</th>\n",
              "      <td>ptsd</td>\n",
              "      <td>He said he had not felt that way before, sugge...</td>\n",
              "      <td>1</td>\n",
              "      <td>0.8</td>\n",
              "      <td>1521614353</td>\n",
              "    </tr>\n",
              "    <tr>\n",
              "      <th>1</th>\n",
              "      <td>assistance</td>\n",
              "      <td>Hey there r/assistance, Not sure if this is th...</td>\n",
              "      <td>0</td>\n",
              "      <td>1.0</td>\n",
              "      <td>1527009817</td>\n",
              "    </tr>\n",
              "    <tr>\n",
              "      <th>2</th>\n",
              "      <td>ptsd</td>\n",
              "      <td>My mom then hit me with the newspaper and it s...</td>\n",
              "      <td>1</td>\n",
              "      <td>0.8</td>\n",
              "      <td>1535935605</td>\n",
              "    </tr>\n",
              "    <tr>\n",
              "      <th>3</th>\n",
              "      <td>relationships</td>\n",
              "      <td>until i met my new boyfriend, he is amazing, h...</td>\n",
              "      <td>1</td>\n",
              "      <td>0.6</td>\n",
              "      <td>1516429555</td>\n",
              "    </tr>\n",
              "    <tr>\n",
              "      <th>4</th>\n",
              "      <td>survivorsofabuse</td>\n",
              "      <td>October is Domestic Violence Awareness Month a...</td>\n",
              "      <td>1</td>\n",
              "      <td>0.8</td>\n",
              "      <td>1539809005</td>\n",
              "    </tr>\n",
              "  </tbody>\n",
              "</table>\n",
              "</div>\n",
              "      <button class=\"colab-df-convert\" onclick=\"convertToInteractive('df-c9ea5088-54d7-41ce-b0a1-567e575ae8f7')\"\n",
              "              title=\"Convert this dataframe to an interactive table.\"\n",
              "              style=\"display:none;\">\n",
              "        \n",
              "  <svg xmlns=\"http://www.w3.org/2000/svg\" height=\"24px\"viewBox=\"0 0 24 24\"\n",
              "       width=\"24px\">\n",
              "    <path d=\"M0 0h24v24H0V0z\" fill=\"none\"/>\n",
              "    <path d=\"M18.56 5.44l.94 2.06.94-2.06 2.06-.94-2.06-.94-.94-2.06-.94 2.06-2.06.94zm-11 1L8.5 8.5l.94-2.06 2.06-.94-2.06-.94L8.5 2.5l-.94 2.06-2.06.94zm10 10l.94 2.06.94-2.06 2.06-.94-2.06-.94-.94-2.06-.94 2.06-2.06.94z\"/><path d=\"M17.41 7.96l-1.37-1.37c-.4-.4-.92-.59-1.43-.59-.52 0-1.04.2-1.43.59L10.3 9.45l-7.72 7.72c-.78.78-.78 2.05 0 2.83L4 21.41c.39.39.9.59 1.41.59.51 0 1.02-.2 1.41-.59l7.78-7.78 2.81-2.81c.8-.78.8-2.07 0-2.86zM5.41 20L4 18.59l7.72-7.72 1.47 1.35L5.41 20z\"/>\n",
              "  </svg>\n",
              "      </button>\n",
              "      \n",
              "  <style>\n",
              "    .colab-df-container {\n",
              "      display:flex;\n",
              "      flex-wrap:wrap;\n",
              "      gap: 12px;\n",
              "    }\n",
              "\n",
              "    .colab-df-convert {\n",
              "      background-color: #E8F0FE;\n",
              "      border: none;\n",
              "      border-radius: 50%;\n",
              "      cursor: pointer;\n",
              "      display: none;\n",
              "      fill: #1967D2;\n",
              "      height: 32px;\n",
              "      padding: 0 0 0 0;\n",
              "      width: 32px;\n",
              "    }\n",
              "\n",
              "    .colab-df-convert:hover {\n",
              "      background-color: #E2EBFA;\n",
              "      box-shadow: 0px 1px 2px rgba(60, 64, 67, 0.3), 0px 1px 3px 1px rgba(60, 64, 67, 0.15);\n",
              "      fill: #174EA6;\n",
              "    }\n",
              "\n",
              "    [theme=dark] .colab-df-convert {\n",
              "      background-color: #3B4455;\n",
              "      fill: #D2E3FC;\n",
              "    }\n",
              "\n",
              "    [theme=dark] .colab-df-convert:hover {\n",
              "      background-color: #434B5C;\n",
              "      box-shadow: 0px 1px 3px 1px rgba(0, 0, 0, 0.15);\n",
              "      filter: drop-shadow(0px 1px 2px rgba(0, 0, 0, 0.3));\n",
              "      fill: #FFFFFF;\n",
              "    }\n",
              "  </style>\n",
              "\n",
              "      <script>\n",
              "        const buttonEl =\n",
              "          document.querySelector('#df-c9ea5088-54d7-41ce-b0a1-567e575ae8f7 button.colab-df-convert');\n",
              "        buttonEl.style.display =\n",
              "          google.colab.kernel.accessAllowed ? 'block' : 'none';\n",
              "\n",
              "        async function convertToInteractive(key) {\n",
              "          const element = document.querySelector('#df-c9ea5088-54d7-41ce-b0a1-567e575ae8f7');\n",
              "          const dataTable =\n",
              "            await google.colab.kernel.invokeFunction('convertToInteractive',\n",
              "                                                     [key], {});\n",
              "          if (!dataTable) return;\n",
              "\n",
              "          const docLinkHtml = 'Like what you see? Visit the ' +\n",
              "            '<a target=\"_blank\" href=https://colab.research.google.com/notebooks/data_table.ipynb>data table notebook</a>'\n",
              "            + ' to learn more about interactive tables.';\n",
              "          element.innerHTML = '';\n",
              "          dataTable['output_type'] = 'display_data';\n",
              "          await google.colab.output.renderOutput(dataTable, element);\n",
              "          const docLink = document.createElement('div');\n",
              "          docLink.innerHTML = docLinkHtml;\n",
              "          element.appendChild(docLink);\n",
              "        }\n",
              "      </script>\n",
              "    </div>\n",
              "  </div>\n",
              "  "
            ]
          },
          "metadata": {},
          "execution_count": 12
        }
      ]
    },
    {
      "cell_type": "code",
      "source": [
        "nlp=spacy.load('en_core_web_sm')"
      ],
      "metadata": {
        "id": "uqHQyk5tzNbA"
      },
      "execution_count": 27,
      "outputs": []
    },
    {
      "cell_type": "code",
      "source": [
        "#defining function for preprocessing\n",
        "def preprocess(text,remove_digits=True):\n",
        "    text = re.sub('\\W+',' ', text)                                        #for replacing non-word characters\n",
        "    text = re.sub('\\s+',' ', text)                                        #for replacng extra spaces\n",
        "    text = re.sub(\"(?<!\\w)\\d+\", \"\", text)                                 # Remove all numbers except those attached to a word\n",
        "    text = re.sub(\"-(?!\\w)|(?<!\\w)-\", \"\", text)                           # Remove all hyphens except between two words\n",
        "    text=text.lower()\n",
        "    nopunc=[char for char in text if char not in string.punctuation]      #for removing punctuation in the strings\n",
        "    nopunc=''.join(nopunc)\n",
        "    nopunc=' '.join([word for word in nopunc.split() if word.lower() not in stopwords.words('english')])   #for removing stop words\n",
        "    return nopunc\n",
        "# Defining a function for lemitization\n",
        "def lemmatize(words):\n",
        "   \n",
        "    words=nlp(words)\n",
        "    lemmas = []\n",
        "    for word in words:\n",
        "        \n",
        "        lemmas.append(word.lemma_)\n",
        "    return lemmas\n",
        "#converting them into string\n",
        "def listtostring(s):\n",
        "    str1=' '\n",
        "    return (str1.join(s))\n",
        "\n",
        "def clean_text(input):\n",
        "    word=preprocess(input)\n",
        "    lemmas=lemmatize(word)\n",
        "    return listtostring(lemmas)"
      ],
      "metadata": {
        "id": "CUWLKoxfkUXL"
      },
      "execution_count": 28,
      "outputs": []
    },
    {
      "cell_type": "code",
      "source": [
        "#Apply function on review column\n",
        "raw_df['text']=raw_df['text'].apply(clean_text)"
      ],
      "metadata": {
        "id": "aYcO_5YJkUfB"
      },
      "execution_count": 29,
      "outputs": []
    },
    {
      "cell_type": "code",
      "source": [
        "raw_df['text'].values"
      ],
      "metadata": {
        "id": "m8DISgr97O-p",
        "colab": {
          "base_uri": "https://localhost:8080/"
        },
        "outputId": "5d040f9f-c545-4bca-bddf-b44835c80652"
      },
      "execution_count": 30,
      "outputs": [
        {
          "output_type": "execute_result",
          "data": {
            "text/plain": [
              "array(['say feel way suggete go rest trigger ahead youi hypocondriac like decide look feeling doom hope maybe getting suck rabbit hole ludicrous conspiracy stupid psychic test new age b something could even laugh road end read sense doom indicative various health ailment one prone top doom gloom f n worried heart happen physical hour',\n",
              "       'hey r assistance sure right place post go currently student intern sandia national labs work survey help improve marketing outreach effort many school recruit around country look current undergrad grad stem student stem student know stem student would greatly appreciate help take pass along short survey thank everyone help take survey enter drawing chance win one three amazon gcs',\n",
              "       'mom hit newspaper shock would know like play hit smacking strike hit violence sort person send vibe ask universe yesterday decide take friend go help another friend move new place drive friend move strike shoulder address immediately th time tell thing friend drive nearly get collision another car think high marijuana friend move backseat like understand try get attention know thing year old get people attention smacking guy',\n",
              "       ...,\n",
              "       'case first time read post look people willing complete online questionnaire employment well hope help we improve service assist people mental health difficulty obtain retain employment develop employment questionnaire people personality disorder however look people background complete mean need diagnosis personality disorder need interest complete online questionnaire questionnaire take minute complete online participation donate behalf mental health charity young mind child adolescent mental health mental health foundation rethink',\n",
              "       'find normal good relationship main problem see mom jail jumpsuit see inmate woman behind bar guard could intimidate ok year old see actually daughter seem scared instead seem excited enthusiastic visit strange',\n",
              "       'talk mom morning say sister trauma bad mine develop ptsd mom idea even traumatic event tell easy say need do scared'],\n",
              "      dtype=object)"
            ]
          },
          "metadata": {},
          "execution_count": 30
        }
      ]
    },
    {
      "cell_type": "code",
      "source": [],
      "metadata": {
        "id": "fimpfJhmmlwu"
      },
      "execution_count": null,
      "outputs": []
    }
  ]
}